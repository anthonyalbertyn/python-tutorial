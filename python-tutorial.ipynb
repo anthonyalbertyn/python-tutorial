{
 "cells": [
  {
   "cell_type": "markdown",
   "metadata": {},
   "source": [
    "# Python Tutorial for Developers\n",
    "### Author: Anthony Albertyn"
   ]
  },
  {
   "cell_type": "markdown",
   "metadata": {},
   "source": [
    "This is a high-level quick-start guide to Python for developers that already know how to code in another scripting language, like JavsScript or other. There are many good parts of Python that have not even been mentioned here, so please see Learning Resources below for next steps to explore Python further."
   ]
  },
  {
   "cell_type": "markdown",
   "metadata": {},
   "source": [
    "## Why consider learning Python?"
   ]
  },
  {
   "cell_type": "markdown",
   "metadata": {},
   "source": [
    "### Popularity of Python"
   ]
  },
  {
   "cell_type": "markdown",
   "metadata": {},
   "source": [
    "Acdording to Tiobe Index - https://www.tiobe.com/tiobe-index/python/  \n",
    "- Highest Position (since 2001): #2 in Nov 2020\n",
    "- Lowest Position (since 2001): #13 in Feb 2003\n",
    "- Language of the Year: 2007, 2010, 2018, 2020"
   ]
  },
  {
   "cell_type": "markdown",
   "metadata": {},
   "source": [
    "### Stability of Python"
   ]
  },
  {
   "cell_type": "markdown",
   "metadata": {},
   "source": [
    "According to https://docs.python.org/3/faq/general.html#how-stable-is-python  \n",
    "*Python is very stable*\n",
    "\n",
    "- New stable releases every 6 to 18 months since 1991\n",
    "- Python has a robust Standard Template Library - https://docs.python.org/3/library/"
   ]
  },
  {
   "cell_type": "markdown",
   "metadata": {},
   "source": [
    "### Usefulness of Python"
   ]
  },
  {
   "cell_type": "markdown",
   "metadata": {},
   "source": [
    "According to https://www.python.org/about/apps/\n",
    "\n",
    "- Web and Internet development\n",
    "- Scientific and Numeric uses\n",
    "- Education - easy to learn\n",
    "- Desktop GUI's\n",
    "- Support language for software development\n",
    "- Business applications"
   ]
  },
  {
   "cell_type": "markdown",
   "metadata": {},
   "source": [
    "Python has 8,000+ scientific (including data science and machine learning) packages, mostly contributed by universities and the scientifc community"
   ]
  },
  {
   "cell_type": "markdown",
   "metadata": {},
   "source": [
    "## Runs on multiple platforms"
   ]
  },
  {
   "cell_type": "markdown",
   "metadata": {},
   "source": [
    "According to https://pythondev.readthedocs.io/platforms.html  \n",
    "\n",
    "Well supported platforms on Python 3.7 and 2.7:\n",
    "\n",
    "- Linux\n",
    "- Windows Vista and newer for Python 3.7, Windows XP and newer for Python 2.7\n",
    "- FreeBSD 10 and newer\n",
    "- macOS Snow Leopard (macOS 10.6, 2008) and newer\n",
    "\n",
    "Supported platform with best effort support:  \n",
    "\n",
    "- Android API 24\n",
    "- OpenBSD\n",
    "- NetBSD\n",
    "- AIX 6.1 and newer"
   ]
  },
  {
   "cell_type": "markdown",
   "metadata": {},
   "source": [
    "## Comments"
   ]
  },
  {
   "cell_type": "code",
   "execution_count": 11,
   "metadata": {},
   "outputs": [],
   "source": [
    "# This is a single line comment\n",
    "# and for multi-line we just repeat"
   ]
  },
  {
   "cell_type": "markdown",
   "metadata": {},
   "source": [
    "Python does NOT use /* */ for multt-line comments."
   ]
  },
  {
   "cell_type": "markdown",
   "metadata": {},
   "source": [
    "## Primitive data types"
   ]
  },
  {
   "cell_type": "markdown",
   "metadata": {},
   "source": [
    "- int - Integer, example: 123  \n",
    "- float - Floating point number, example: 23.678  \n",
    "- bool - Boolean, example: True or False  \n",
    "- str - String, example \"I am a string\" 'and so am I'  "
   ]
  },
  {
   "cell_type": "markdown",
   "metadata": {},
   "source": [
    "## Variables"
   ]
  },
  {
   "cell_type": "markdown",
   "metadata": {},
   "source": [
    "- Python does NOT use var, let, const to create variables  \n",
    "- A variable must be initialised when created  \n",
    "- Lines do not end with a semicolon ;"
   ]
  },
  {
   "cell_type": "code",
   "execution_count": 12,
   "metadata": {},
   "outputs": [],
   "source": [
    "# A variable initialised with a string\n",
    "first_name = \"Jane\"\n",
    "\n",
    "# A variable initialised with a float\n",
    "temperature = 23.5\n",
    "\n",
    "# A variable initialised with an integer\n",
    "people = 5\n",
    "\n",
    "# A constant\n",
    "BIRTH_PLACE = \"London\"\n"
   ]
  },
  {
   "cell_type": "markdown",
   "metadata": {},
   "source": [
    "## Output"
   ]
  },
  {
   "cell_type": "code",
   "execution_count": 6,
   "metadata": {},
   "outputs": [
    {
     "name": "stdout",
     "output_type": "stream",
     "text": [
      "10\n",
      "User rating:  10\n",
      "Users rated us 10 out of 10\n"
     ]
    }
   ],
   "source": [
    "rating = 10\n",
    "\n",
    "# Basic output\n",
    "print(rating)\n",
    "\n",
    "# Another example\n",
    "print(\"User rating: \", rating)\n",
    "\n",
    "# Print a formatted string\n",
    "print(f\"Users rated us {10} out of 10\")"
   ]
  },
  {
   "cell_type": "markdown",
   "metadata": {},
   "source": [
    "## Input"
   ]
  },
  {
   "cell_type": "code",
   "execution_count": 7,
   "metadata": {},
   "outputs": [
    {
     "name": "stdout",
     "output_type": "stream",
     "text": [
      "Please enter your name: Bamby\n",
      "You entered:  Bamby\n"
     ]
    }
   ],
   "source": [
    "user_name = input(\"Please enter your name: \")\n",
    "\n",
    "print(\"You entered: \", user_name )"
   ]
  },
  {
   "cell_type": "markdown",
   "metadata": {},
   "source": [
    "## Code blocks"
   ]
  },
  {
   "cell_type": "markdown",
   "metadata": {},
   "source": [
    "- Use indentation for code blocks\n",
    "- Python does NOT use { } for code blocks"
   ]
  },
  {
   "cell_type": "code",
   "execution_count": 13,
   "metadata": {},
   "outputs": [
    {
     "name": "stdout",
     "output_type": "stream",
     "text": [
      "5\n",
      "Hello\n"
     ]
    }
   ],
   "source": [
    "rating = 5\n",
    "\n",
    "if rating == 5:\n",
    "    # This is a code block\n",
    "    print(rating)\n",
    "\n",
    "# This is no longer part of the code block\n",
    "print(\"Hello\")\n",
    "\n"
   ]
  },
  {
   "cell_type": "markdown",
   "metadata": {},
   "source": [
    "## Special values"
   ]
  },
  {
   "cell_type": "markdown",
   "metadata": {},
   "source": [
    "- Python has a special value called *None* which means no value\n",
    "- Python does not have values like undefined or NaN\n",
    "- None is NOT the same as false or and empty string \"\" or 0"
   ]
  },
  {
   "cell_type": "code",
   "execution_count": 14,
   "metadata": {},
   "outputs": [
    {
     "name": "stdout",
     "output_type": "stream",
     "text": [
      "x is None\n"
     ]
    }
   ],
   "source": [
    "x = None\n",
    "\n",
    "if x == None:\n",
    "    print(\"x is None\")\n"
   ]
  },
  {
   "cell_type": "markdown",
   "metadata": {},
   "source": [
    "## Data Structures"
   ]
  },
  {
   "cell_type": "code",
   "execution_count": 58,
   "metadata": {},
   "outputs": [
    {
     "name": "stdout",
     "output_type": "stream",
     "text": [
      "1\n"
     ]
    }
   ],
   "source": [
    "# Tuple, like an immutable array\n",
    "my_score = (1, 10, 5)\n",
    "print(my_score[0])"
   ]
  },
  {
   "cell_type": "code",
   "execution_count": 56,
   "metadata": {},
   "outputs": [
    {
     "name": "stdout",
     "output_type": "stream",
     "text": [
      "Freddie\n"
     ]
    }
   ],
   "source": [
    "# Lits, like a mutable array\n",
    "my_friends = [\"Ben\", \"Mary\", \"Freddie\"]\n",
    "\n",
    "print(my_friends[2])"
   ]
  },
  {
   "cell_type": "code",
   "execution_count": 55,
   "metadata": {},
   "outputs": [
    {
     "name": "stdout",
     "output_type": "stream",
     "text": [
      "Sam\n"
     ]
    }
   ],
   "source": [
    "# Dictionary, a hash table\n",
    "person = {\n",
    "  \"first_name\": \"Sam\",\n",
    "  \"last_name\": \"Smith\",\n",
    "}\n",
    "\n",
    "print(person[\"first_name\"])"
   ]
  },
  {
   "cell_type": "markdown",
   "metadata": {},
   "source": [
    "This will produce an error in Python: print(person.first_name)\n"
   ]
  },
  {
   "cell_type": "code",
   "execution_count": 59,
   "metadata": {},
   "outputs": [
    {
     "name": "stdout",
     "output_type": "stream",
     "text": [
      "Two\n",
      "Three\n",
      "One\n"
     ]
    }
   ],
   "source": [
    "# Set - these are unordered and unindexed\n",
    "my_set = {\"One\", \"Two\", \"Three\"}\n",
    "\n",
    "for item in my_set:\n",
    "    print(item)\n"
   ]
  },
  {
   "cell_type": "markdown",
   "metadata": {},
   "source": [
    "## Operators"
   ]
  },
  {
   "cell_type": "code",
   "execution_count": 43,
   "metadata": {},
   "outputs": [
    {
     "name": "stdout",
     "output_type": "stream",
     "text": [
      "3.3333333333333335\n"
     ]
    }
   ],
   "source": [
    "# division\n",
    "print(10 / 3)"
   ]
  },
  {
   "cell_type": "code",
   "execution_count": 44,
   "metadata": {},
   "outputs": [
    {
     "name": "stdout",
     "output_type": "stream",
     "text": [
      "3\n"
     ]
    }
   ],
   "source": [
    "# integer division - decimal places dropped (not rounded)\n",
    "print(10 // 3)"
   ]
  },
  {
   "cell_type": "code",
   "execution_count": 45,
   "metadata": {},
   "outputs": [
    {
     "name": "stdout",
     "output_type": "stream",
     "text": [
      "30\n"
     ]
    }
   ],
   "source": [
    "# multiplication\n",
    "print(10 * 3)"
   ]
  },
  {
   "cell_type": "code",
   "execution_count": 46,
   "metadata": {},
   "outputs": [
    {
     "name": "stdout",
     "output_type": "stream",
     "text": [
      "13\n"
     ]
    }
   ],
   "source": [
    "# addition\n",
    "print(10 + 3)"
   ]
  },
  {
   "cell_type": "code",
   "execution_count": 47,
   "metadata": {},
   "outputs": [
    {
     "name": "stdout",
     "output_type": "stream",
     "text": [
      "7\n"
     ]
    }
   ],
   "source": [
    "# subtraction\n",
    "print(10 - 3)"
   ]
  },
  {
   "cell_type": "code",
   "execution_count": 48,
   "metadata": {},
   "outputs": [
    {
     "name": "stdout",
     "output_type": "stream",
     "text": [
      "True\n",
      "False\n",
      "False\n"
     ]
    }
   ],
   "source": [
    "# equality\n",
    "print(10 == 10) # True\n",
    "print(10 == 5) # False\n",
    "print(10 == '10') # False"
   ]
  },
  {
   "cell_type": "code",
   "execution_count": 49,
   "metadata": {},
   "outputs": [
    {
     "name": "stdout",
     "output_type": "stream",
     "text": [
      "True\n",
      "True\n"
     ]
    }
   ],
   "source": [
    "# greater than\n",
    "print(10 > 5) # True\n",
    "print(5 < 10) # False"
   ]
  },
  {
   "cell_type": "code",
   "execution_count": 50,
   "metadata": {},
   "outputs": [
    {
     "name": "stdout",
     "output_type": "stream",
     "text": [
      "True\n",
      "False\n"
     ]
    }
   ],
   "source": [
    "# smaller than\n",
    "print(5 < 10) # True\n",
    "print(10 < 5) # False"
   ]
  },
  {
   "cell_type": "code",
   "execution_count": 51,
   "metadata": {},
   "outputs": [
    {
     "name": "stdout",
     "output_type": "stream",
     "text": [
      "True\n",
      "True\n"
     ]
    }
   ],
   "source": [
    "# greater than or equal\n",
    "print(5 >= 5) # True\n",
    "print(10 >= 5) # True"
   ]
  },
  {
   "cell_type": "code",
   "execution_count": 52,
   "metadata": {},
   "outputs": [
    {
     "name": "stdout",
     "output_type": "stream",
     "text": [
      "True\n",
      "True\n"
     ]
    }
   ],
   "source": [
    "# smaller than or equal\n",
    "print(5 <= 5) # True\n",
    "print(4 <= 5) # True"
   ]
  },
  {
   "cell_type": "markdown",
   "metadata": {},
   "source": [
    "## Logical operators"
   ]
  },
  {
   "cell_type": "code",
   "execution_count": 61,
   "metadata": {},
   "outputs": [
    {
     "name": "stdout",
     "output_type": "stream",
     "text": [
      "True\n",
      "False\n"
     ]
    }
   ],
   "source": [
    "# and - Python does not use &&\n",
    "print(True and True) # True\n",
    "print(True and False) # False"
   ]
  },
  {
   "cell_type": "code",
   "execution_count": 60,
   "metadata": {},
   "outputs": [
    {
     "name": "stdout",
     "output_type": "stream",
     "text": [
      "True\n",
      "False\n"
     ]
    }
   ],
   "source": [
    "# or - Python does not use ||\n",
    "print(True or False) # True\n",
    "print(False or False) # False"
   ]
  },
  {
   "cell_type": "code",
   "execution_count": 62,
   "metadata": {},
   "outputs": [
    {
     "name": "stdout",
     "output_type": "stream",
     "text": [
      "True\n",
      "False\n"
     ]
    }
   ],
   "source": [
    "# not - Python does not use !\n",
    "print(True and not False) # True\n",
    "print(True and not True) # False"
   ]
  },
  {
   "cell_type": "markdown",
   "metadata": {},
   "source": [
    "## Type Operator"
   ]
  },
  {
   "cell_type": "code",
   "execution_count": 67,
   "metadata": {},
   "outputs": [
    {
     "name": "stdout",
     "output_type": "stream",
     "text": [
      "<class 'str'>\n",
      "<class 'str'>\n"
     ]
    }
   ],
   "source": [
    "a = \"hello\"\n",
    "b = 'hello'\n",
    "print(type(a))\n",
    "print(type(b))"
   ]
  },
  {
   "cell_type": "code",
   "execution_count": 124,
   "metadata": {},
   "outputs": [
    {
     "name": "stdout",
     "output_type": "stream",
     "text": [
      "My name is Wendy\n",
      "Hello Wendy, how is Abby?\n",
      "<class 'str'>\n"
     ]
    }
   ],
   "source": [
    "name = \"Wendy\"\n",
    "friend_name = \"Abby\"\n",
    "\n",
    "formatted_string = f\"My name is {name}\"\n",
    "\n",
    "print(formatted_string)\n",
    "\n",
    "print(f\"Hello {name}, how is {friend_name}?\")\n",
    "\n",
    "print(type(formatted_string))"
   ]
  },
  {
   "cell_type": "code",
   "execution_count": 75,
   "metadata": {},
   "outputs": [
    {
     "name": "stdout",
     "output_type": "stream",
     "text": [
      "<class 'int'>\n"
     ]
    }
   ],
   "source": [
    "c = 5\n",
    "\n",
    "print(type(c))"
   ]
  },
  {
   "cell_type": "code",
   "execution_count": 76,
   "metadata": {},
   "outputs": [
    {
     "name": "stdout",
     "output_type": "stream",
     "text": [
      "<class 'float'>\n"
     ]
    }
   ],
   "source": [
    "d = 5.123\n",
    "\n",
    "print(type(d))"
   ]
  },
  {
   "cell_type": "code",
   "execution_count": 74,
   "metadata": {},
   "outputs": [
    {
     "name": "stdout",
     "output_type": "stream",
     "text": [
      "<class 'bool'>\n"
     ]
    }
   ],
   "source": [
    "e = True\n",
    "\n",
    "print(type(e))"
   ]
  },
  {
   "cell_type": "code",
   "execution_count": 73,
   "metadata": {},
   "outputs": [
    {
     "name": "stdout",
     "output_type": "stream",
     "text": [
      "<class 'NoneType'>\n"
     ]
    }
   ],
   "source": [
    "f = None\n",
    "\n",
    "print(type(f))"
   ]
  },
  {
   "cell_type": "code",
   "execution_count": 72,
   "metadata": {},
   "outputs": [
    {
     "name": "stdout",
     "output_type": "stream",
     "text": [
      "<class 'tuple'>\n"
     ]
    }
   ],
   "source": [
    "my_score = (1, 10, 5)\n",
    "\n",
    "print(type(my_score))"
   ]
  },
  {
   "cell_type": "code",
   "execution_count": 71,
   "metadata": {},
   "outputs": [
    {
     "name": "stdout",
     "output_type": "stream",
     "text": [
      "<class 'list'>\n"
     ]
    }
   ],
   "source": [
    "my_friends = [\"Ben\", \"Mary\", \"Freddie\"]\n",
    "\n",
    "print(type(my_friends))"
   ]
  },
  {
   "cell_type": "code",
   "execution_count": 70,
   "metadata": {},
   "outputs": [
    {
     "name": "stdout",
     "output_type": "stream",
     "text": [
      "<class 'dict'>\n"
     ]
    }
   ],
   "source": [
    "person = {\n",
    "  \"first_name\": \"Sam\",\n",
    "  \"last_name\": \"Smith\",\n",
    "}\n",
    "\n",
    "print(type(person))"
   ]
  },
  {
   "cell_type": "markdown",
   "metadata": {},
   "source": [
    "## Sclicing"
   ]
  },
  {
   "cell_type": "code",
   "execution_count": 139,
   "metadata": {},
   "outputs": [],
   "source": [
    "name = \"James Bond\""
   ]
  },
  {
   "cell_type": "code",
   "execution_count": 140,
   "metadata": {},
   "outputs": [
    {
     "name": "stdout",
     "output_type": "stream",
     "text": [
      "James\n"
     ]
    }
   ],
   "source": [
    "print(name[0:5])"
   ]
  },
  {
   "cell_type": "code",
   "execution_count": 144,
   "metadata": {},
   "outputs": [
    {
     "name": "stdout",
     "output_type": "stream",
     "text": [
      "James\n"
     ]
    }
   ],
   "source": [
    "print(name[:5])"
   ]
  },
  {
   "cell_type": "code",
   "execution_count": 147,
   "metadata": {},
   "outputs": [
    {
     "name": "stdout",
     "output_type": "stream",
     "text": [
      "Bond\n"
     ]
    }
   ],
   "source": [
    "print(name[6:10])"
   ]
  },
  {
   "cell_type": "code",
   "execution_count": 148,
   "metadata": {},
   "outputs": [
    {
     "name": "stdout",
     "output_type": "stream",
     "text": [
      "Bond\n"
     ]
    }
   ],
   "source": [
    "print(name[6:])"
   ]
  },
  {
   "cell_type": "code",
   "execution_count": 154,
   "metadata": {},
   "outputs": [
    {
     "name": "stdout",
     "output_type": "stream",
     "text": [
      "['A', 'B', 'C', 'D', 'E']\n",
      "['A', 'B', 'C', 'D', 'E']\n"
     ]
    }
   ],
   "source": [
    "my_list = ['A', 'B', 'C', 'D']\n",
    "\n",
    "# my_other_list here references the my_list\n",
    "my_other_list = my_list\n",
    "\n",
    "my_list.append('E')\n",
    "\n",
    "print(my_list)\n",
    "print(my_other_list)"
   ]
  },
  {
   "cell_type": "code",
   "execution_count": 155,
   "metadata": {},
   "outputs": [
    {
     "name": "stdout",
     "output_type": "stream",
     "text": [
      "['A', 'B', 'C', 'D', 'E']\n",
      "['A', 'B', 'C', 'D']\n"
     ]
    }
   ],
   "source": [
    "# clone a list\n",
    "my_list = ['A', 'B', 'C', 'D']\n",
    "\n",
    "# slice returns a new list\n",
    "my_other_list = my_list[:]\n",
    "\n",
    "my_list.append('E')\n",
    "\n",
    "print(my_list)\n",
    "print(my_other_list)"
   ]
  },
  {
   "cell_type": "markdown",
   "metadata": {},
   "source": [
    "## Working with lists"
   ]
  },
  {
   "cell_type": "code",
   "execution_count": 164,
   "metadata": {},
   "outputs": [
    {
     "name": "stdout",
     "output_type": "stream",
     "text": [
      "Two\n"
     ]
    }
   ],
   "source": [
    "# get a list item\n",
    "mine = [\"One\", \"Two\", \"Three\"]\n",
    "\n",
    "print(mine[1])"
   ]
  },
  {
   "cell_type": "code",
   "execution_count": 165,
   "metadata": {},
   "outputs": [
    {
     "name": "stdout",
     "output_type": "stream",
     "text": [
      "[1, 'Two', 'Three']\n"
     ]
    }
   ],
   "source": [
    "# update a list item\n",
    "mine = [\"One\", \"Two\", \"Three\"]\n",
    "mine[0] = 1\n",
    "\n",
    "print(mine)"
   ]
  },
  {
   "cell_type": "code",
   "execution_count": 166,
   "metadata": {},
   "outputs": [
    {
     "name": "stdout",
     "output_type": "stream",
     "text": [
      "['One', 'Two', 'Three', 'Four']\n"
     ]
    }
   ],
   "source": [
    "# add an item to the end of the list\n",
    "mine = [\"One\", \"Two\", \"Three\"]\n",
    "mine.append(\"Four\")\n",
    "\n",
    "print(mine)"
   ]
  },
  {
   "cell_type": "code",
   "execution_count": 167,
   "metadata": {},
   "outputs": [
    {
     "name": "stdout",
     "output_type": "stream",
     "text": [
      "['One', 'Two', 'Three', 'Four', 'Five', 'Six']\n"
     ]
    }
   ],
   "source": [
    "# add multiple items to the end of the list\n",
    "mine = [\"One\", \"Two\", \"Three\"]\n",
    "mine.extend([\"Four\", \"Five\", \"Six\"])\n",
    "\n",
    "print(mine)"
   ]
  },
  {
   "cell_type": "code",
   "execution_count": 182,
   "metadata": {},
   "outputs": [
    {
     "name": "stdout",
     "output_type": "stream",
     "text": [
      "['Hello', 'One', 'Two', 'Three']\n"
     ]
    }
   ],
   "source": [
    "# insert one item into a list at the start\n",
    "mine = [\"One\", \"Two\", \"Three\"]\n",
    "\n",
    "# first argument is the index where to inster\n",
    "mine.insert(0, \"Hello\")\n",
    "\n",
    "print(mine)"
   ]
  },
  {
   "cell_type": "code",
   "execution_count": 184,
   "metadata": {},
   "outputs": [
    {
     "name": "stdout",
     "output_type": "stream",
     "text": [
      "['Hello', 'There', 'One', 'Two', 'Three']\n"
     ]
    }
   ],
   "source": [
    "# insert multiple item into a list at the start\n",
    "mine = [\"One\", \"Two\", \"Three\"]\n",
    "mine = [\"Hello\", \"There\"] + mine\n",
    "\n",
    "print(mine)"
   ]
  },
  {
   "cell_type": "code",
   "execution_count": 168,
   "metadata": {},
   "outputs": [
    {
     "name": "stdout",
     "output_type": "stream",
     "text": [
      "['One', 'Three']\n"
     ]
    }
   ],
   "source": [
    "# remove the second list item\n",
    "mine = [\"One\", \"Two\", \"Three\"]\n",
    "mine.pop(1)\n",
    "\n",
    "print(mine)"
   ]
  },
  {
   "cell_type": "code",
   "execution_count": 170,
   "metadata": {},
   "outputs": [
    {
     "name": "stdout",
     "output_type": "stream",
     "text": [
      "[]\n"
     ]
    }
   ],
   "source": [
    "# empty a list\n",
    "mine = [\"One\", \"Two\", \"Three\"]\n",
    "mine.clear()\n",
    "\n",
    "print(mine)"
   ]
  },
  {
   "cell_type": "code",
   "execution_count": 172,
   "metadata": {},
   "outputs": [],
   "source": [
    "# delete a list\n",
    "mine = [\"One\", \"Two\", \"Three\"]\n",
    "del mine"
   ]
  },
  {
   "cell_type": "code",
   "execution_count": 173,
   "metadata": {},
   "outputs": [
    {
     "name": "stdout",
     "output_type": "stream",
     "text": [
      "One\n",
      "Two\n",
      "Three\n"
     ]
    }
   ],
   "source": [
    "# iterate over a list\n",
    "mine = [\"One\", \"Two\", \"Three\"]\n",
    "for x in mine:\n",
    "  print(x)"
   ]
  },
  {
   "cell_type": "code",
   "execution_count": 174,
   "metadata": {},
   "outputs": [
    {
     "name": "stdout",
     "output_type": "stream",
     "text": [
      "3\n"
     ]
    }
   ],
   "source": [
    "# length of a list\n",
    "mine = [\"One\", \"Two\", \"Three\"]\n",
    "print(len(mine))"
   ]
  },
  {
   "cell_type": "code",
   "execution_count": 176,
   "metadata": {},
   "outputs": [
    {
     "name": "stdout",
     "output_type": "stream",
     "text": [
      "['Bobby', 'Erica', 'Mary', 'Zeta']\n"
     ]
    }
   ],
   "source": [
    "# sort ascending\n",
    "names = [\"Zeta\", \"Bobby\", \"Mary\", \"Erica\"]\n",
    "names.sort()\n",
    "\n",
    "print(names)"
   ]
  },
  {
   "cell_type": "code",
   "execution_count": 177,
   "metadata": {},
   "outputs": [
    {
     "name": "stdout",
     "output_type": "stream",
     "text": [
      "['Zeta', 'Mary', 'Erica', 'Bobby']\n"
     ]
    }
   ],
   "source": [
    "# sort descending\n",
    "names = [\"Zeta\", \"Bobby\", \"Mary\", \"Erica\"]\n",
    "names.sort(reverse = True)\n",
    "\n",
    "print(names)"
   ]
  },
  {
   "cell_type": "code",
   "execution_count": 178,
   "metadata": {},
   "outputs": [
    {
     "name": "stdout",
     "output_type": "stream",
     "text": [
      "['One', 'Two', 'Three', 'Four']\n",
      "['One', 'Two', 'Three']\n"
     ]
    }
   ],
   "source": [
    "# copy a list\n",
    "mine = [\"One\", \"Two\", \"Three\"]\n",
    "\n",
    "yours = mine.copy()\n",
    "\n",
    "mine.append(\"Four\")\n",
    "\n",
    "print(mine)\n",
    "print(yours)"
   ]
  },
  {
   "cell_type": "code",
   "execution_count": 185,
   "metadata": {},
   "outputs": [
    {
     "name": "stdout",
     "output_type": "stream",
     "text": [
      "['a', 'b', 'c', 1, 2, 3, 'x', 'y', 'z']\n"
     ]
    }
   ],
   "source": [
    "# join lists\n",
    "a = [\"a\", \"b\", \"c\"]\n",
    "b = [1, 2, 3]\n",
    "c = ['x', 'y', 'z']\n",
    "\n",
    "d = a + b + c\n",
    "print(d)"
   ]
  },
  {
   "cell_type": "markdown",
   "metadata": {},
   "source": [
    "## Range"
   ]
  },
  {
   "cell_type": "code",
   "execution_count": 78,
   "metadata": {},
   "outputs": [
    {
     "name": "stdout",
     "output_type": "stream",
     "text": [
      "range(0, 10)\n",
      "0\n",
      "1\n",
      "2\n",
      "3\n",
      "4\n",
      "5\n",
      "6\n",
      "7\n",
      "8\n",
      "9\n"
     ]
    }
   ],
   "source": [
    "my_numbers = range(10)\n",
    "\n",
    "print(my_numbers)\n",
    "\n",
    "for number in my_numbers:\n",
    "    print(number)\n"
   ]
  },
  {
   "cell_type": "code",
   "execution_count": 79,
   "metadata": {},
   "outputs": [
    {
     "name": "stdout",
     "output_type": "stream",
     "text": [
      "5\n",
      "6\n",
      "7\n",
      "8\n",
      "9\n"
     ]
    }
   ],
   "source": [
    "my_numbers_2 = range(5, 10)\n",
    "\n",
    "for number in my_numbers_2:\n",
    "    print(number)\n"
   ]
  },
  {
   "cell_type": "markdown",
   "metadata": {},
   "source": [
    "## For Loop"
   ]
  },
  {
   "cell_type": "code",
   "execution_count": 81,
   "metadata": {},
   "outputs": [
    {
     "name": "stdout",
     "output_type": "stream",
     "text": [
      "0\n",
      "1\n",
      "2\n",
      "3\n",
      "4\n"
     ]
    }
   ],
   "source": [
    "for x in range(5):\n",
    "    print(x)\n"
   ]
  },
  {
   "cell_type": "code",
   "execution_count": 82,
   "metadata": {},
   "outputs": [
    {
     "name": "stdout",
     "output_type": "stream",
     "text": [
      "One\n",
      "Two\n",
      "Three\n"
     ]
    }
   ],
   "source": [
    "for x in [\"One\", \"Two\", \"Three\"]:\n",
    "    print(x)\n"
   ]
  },
  {
   "cell_type": "code",
   "execution_count": 83,
   "metadata": {},
   "outputs": [
    {
     "name": "stdout",
     "output_type": "stream",
     "text": [
      "2\n",
      "4\n",
      "6\n",
      "8\n"
     ]
    }
   ],
   "source": [
    "my_tuple = (2, 4, 6, 8)\n",
    "\n",
    "for x in my_tuple:\n",
    "    print(x)\n"
   ]
  },
  {
   "cell_type": "code",
   "execution_count": 118,
   "metadata": {},
   "outputs": [
    {
     "name": "stdout",
     "output_type": "stream",
     "text": [
      "0 0\n",
      "0 1\n",
      "0 2\n",
      "1 0\n",
      "1 1\n",
      "1 2\n",
      "2 0\n",
      "2 1\n",
      "2 2\n",
      "3 0\n",
      "3 1\n",
      "3 2\n",
      "4 0\n",
      "4 1\n",
      "4 2\n",
      "5 0\n",
      "5 1\n",
      "5 2\n"
     ]
    }
   ],
   "source": [
    "# nested for loops\n",
    "for i in range(6):\n",
    "    for j in range(3):\n",
    "        print(i, j)\n"
   ]
  },
  {
   "cell_type": "markdown",
   "metadata": {},
   "source": [
    "## While Loop"
   ]
  },
  {
   "cell_type": "code",
   "execution_count": 86,
   "metadata": {},
   "outputs": [
    {
     "name": "stdout",
     "output_type": "stream",
     "text": [
      "hello\n",
      "hello\n",
      "hello\n",
      "hello\n",
      "hello\n"
     ]
    }
   ],
   "source": [
    "x = 5\n",
    "\n",
    "while x > 0:\n",
    "    print(\"hello\")\n",
    "    x = x -1\n"
   ]
  },
  {
   "cell_type": "markdown",
   "metadata": {},
   "source": [
    "## Regular functions"
   ]
  },
  {
   "cell_type": "code",
   "execution_count": 89,
   "metadata": {},
   "outputs": [
    {
     "name": "stdout",
     "output_type": "stream",
     "text": [
      "Batman\n"
     ]
    }
   ],
   "source": [
    "def say_my_name():\n",
    "    print(\"Batman\")\n",
    "\n",
    "say_my_name()"
   ]
  },
  {
   "cell_type": "code",
   "execution_count": 90,
   "metadata": {},
   "outputs": [
    {
     "name": "stdout",
     "output_type": "stream",
     "text": [
      "Hellooo\n"
     ]
    }
   ],
   "source": [
    "def greet(message):\n",
    "    print(message)\n",
    "\n",
    "greet(\"Hellooo\")"
   ]
  },
  {
   "cell_type": "code",
   "execution_count": 91,
   "metadata": {},
   "outputs": [
    {
     "name": "stdout",
     "output_type": "stream",
     "text": [
      "15\n"
     ]
    }
   ],
   "source": [
    "def add(a, b):\n",
    "    return a + b\n",
    "\n",
    "answer = add(10, 5)\n",
    "\n",
    "print(answer)"
   ]
  },
  {
   "cell_type": "markdown",
   "metadata": {},
   "source": [
    "Note: In Python you may not supply more arguments than the number of parameters defined."
   ]
  },
  {
   "cell_type": "markdown",
   "metadata": {},
   "source": [
    "Note: Python does not have a Do While Loop"
   ]
  },
  {
   "cell_type": "markdown",
   "metadata": {},
   "source": [
    "## Lamda (anonymous) Functions"
   ]
  },
  {
   "cell_type": "code",
   "execution_count": 102,
   "metadata": {},
   "outputs": [
    {
     "name": "stdout",
     "output_type": "stream",
     "text": [
      "30\n"
     ]
    }
   ],
   "source": [
    "# Anonymous function can be assigned o a variable\n",
    "my_lambda = lambda a, b: a + b\n",
    "\n",
    "print(my_lambda(10, 20))\n"
   ]
  },
  {
   "cell_type": "code",
   "execution_count": 105,
   "metadata": {},
   "outputs": [
    {
     "name": "stdout",
     "output_type": "stream",
     "text": [
      "10000\n",
      "20000\n",
      "30000\n",
      "40000\n"
     ]
    }
   ],
   "source": [
    "numbers = [10, 20, 30, 40]\n",
    "\n",
    "# lambda (anonymous) function can be passed as a parameter into another function\n",
    "numbers_2 = map(lambda x: x * 1000, numbers)\n",
    "\n",
    "for number in numbers_2:\n",
    "    print(number)\n"
   ]
  },
  {
   "cell_type": "code",
   "execution_count": 104,
   "metadata": {},
   "outputs": [
    {
     "name": "stdout",
     "output_type": "stream",
     "text": [
      "50\n",
      "100\n",
      "150\n",
      "200\n"
     ]
    }
   ],
   "source": [
    "def my_func(your_func, your_list):\n",
    "    return map(your_func, your_list)\n",
    "\n",
    "your_numbers = [10, 20, 30, 40]\n",
    "\n",
    "# lambda function passed as an agroument to another finction\n",
    "numbers = my_func(lambda num: num * 5, your_numbers)\n",
    "\n",
    "for x in numbers:\n",
    "    print(x)\n"
   ]
  },
  {
   "cell_type": "code",
   "execution_count": 108,
   "metadata": {},
   "outputs": [],
   "source": [
    "def my_function_factory(function_name):\n",
    "    if function_name == \"add\":\n",
    "        return lambda a, b: a + b\n",
    "    elif function_name == \"subtract\":\n",
    "        return lambda a, b: a - b\n",
    "    elif function_name == \"divide\":\n",
    "        return lambda a, b: a / b\n",
    "    else:\n",
    "        return lambda a, b: a * b\n"
   ]
  },
  {
   "cell_type": "code",
   "execution_count": 109,
   "metadata": {},
   "outputs": [
    {
     "name": "stdout",
     "output_type": "stream",
     "text": [
      "30\n"
     ]
    }
   ],
   "source": [
    "do_something = my_function_factory(\"add\")\n",
    "print(do_something(10, 20))"
   ]
  },
  {
   "cell_type": "code",
   "execution_count": 110,
   "metadata": {},
   "outputs": [
    {
     "name": "stdout",
     "output_type": "stream",
     "text": [
      "110\n"
     ]
    }
   ],
   "source": [
    "print(my_function_factory(\"add\")(50, 60))"
   ]
  },
  {
   "cell_type": "code",
   "execution_count": 111,
   "metadata": {},
   "outputs": [
    {
     "name": "stdout",
     "output_type": "stream",
     "text": [
      "33.333333333333336\n"
     ]
    }
   ],
   "source": [
    "answer = my_function_factory(\"divide\")(100, 3)\n",
    "print(answer)"
   ]
  },
  {
   "cell_type": "markdown",
   "metadata": {},
   "source": [
    "## Conditional Statements"
   ]
  },
  {
   "cell_type": "code",
   "execution_count": 85,
   "metadata": {},
   "outputs": [
    {
     "name": "stdout",
     "output_type": "stream",
     "text": [
      "My number is larger that your guess\n"
     ]
    }
   ],
   "source": [
    "my_number = 10\n",
    "\n",
    "guess = 5\n",
    "\n",
    "if guess == my_number:\n",
    "    print(\"You guessed right!\")\n",
    "elif guess > my_number:\n",
    "    print(\"My number is smaller than your guess\")\n",
    "else:\n",
    "    print(\"My number is larger that your guess\")\n"
   ]
  },
  {
   "cell_type": "markdown",
   "metadata": {},
   "source": [
    "## Try Except (try catch)"
   ]
  },
  {
   "cell_type": "code",
   "execution_count": 189,
   "metadata": {},
   "outputs": [
    {
     "name": "stdout",
     "output_type": "stream",
     "text": [
      "Try something\n",
      "There was no exception error\n",
      "Finally will always execute\n"
     ]
    }
   ],
   "source": [
    "try:\n",
    "  print(\"Try something\")\n",
    "except:\n",
    "  print(\"There is an exception error\")\n",
    "else:\n",
    "  print(\"There was no exception error\")\n",
    "finally:\n",
    "  print(\"Finally will always execute\")\n"
   ]
  },
  {
   "cell_type": "markdown",
   "metadata": {},
   "source": [
    "Note: Python does not have a Switch statement"
   ]
  },
  {
   "cell_type": "markdown",
   "metadata": {},
   "source": [
    "## Class "
   ]
  },
  {
   "cell_type": "markdown",
   "metadata": {},
   "source": [
    "- In Python we use self in stead of this\n",
    "- self must be added as the first parameter of a constructor or method (function) in a class\n",
    "- self is not added as an argument though when calling a method"
   ]
  },
  {
   "cell_type": "code",
   "execution_count": 127,
   "metadata": {},
   "outputs": [
    {
     "name": "stdout",
     "output_type": "stream",
     "text": [
      "Scruffy\n"
     ]
    }
   ],
   "source": [
    "# without explicitly adding a constructor\n",
    "class Dog:\n",
    "    name = \"Scruffy\"\n",
    "\n",
    "my_dog = Dog()\n",
    "\n",
    "print(my_dog.name)"
   ]
  },
  {
   "cell_type": "code",
   "execution_count": 128,
   "metadata": {},
   "outputs": [
    {
     "name": "stdout",
     "output_type": "stream",
     "text": [
      "Felix\n",
      "cat\n",
      "Fishbones\n"
     ]
    }
   ],
   "source": [
    "class Animal:\n",
    "    # this is a constructor and its name is init with two underscores on either side\n",
    "    def __init__(self, type, name):\n",
    "        self.type = type\n",
    "        self.name = name\n",
    "\n",
    "a = Animal(\"cat\", \"Felix\")\n",
    "\n",
    "print(a.name)\n",
    "print(a.type)\n",
    "\n",
    "a.name = \"Fishbones\"\n",
    "print(a.name)"
   ]
  },
  {
   "cell_type": "code",
   "execution_count": 135,
   "metadata": {},
   "outputs": [
    {
     "name": "stdout",
     "output_type": "stream",
     "text": [
      "Peter Pan\n"
     ]
    }
   ],
   "source": [
    "class Person:\n",
    "  def __init__(self, first_name, last_name):\n",
    "        self.name = first_name\n",
    "        self.surname = last_name\n",
    "\n",
    "  def get_full_name(self):\n",
    "    return self.name + \" \" + self.surname\n",
    "\n",
    "b = Person(\"Peter\", \"Pan\")\n",
    "\n",
    "print(b.get_full_name())\n"
   ]
  },
  {
   "cell_type": "markdown",
   "metadata": {},
   "source": [
    "## Class inheritance"
   ]
  },
  {
   "cell_type": "code",
   "execution_count": 187,
   "metadata": {},
   "outputs": [
    {
     "name": "stdout",
     "output_type": "stream",
     "text": [
      "James Lynch\n",
      "25000\n"
     ]
    }
   ],
   "source": [
    "class Person:\n",
    "  def __init__(self, first_name, last_name):\n",
    "        self.name = first_name\n",
    "        self.surname = last_name\n",
    "\n",
    "  def get_full_name(self):\n",
    "    return self.name + \" \" + self.surname\n",
    "\n",
    "# Employee class extends its parent Person class\n",
    "class Employee(Person):\n",
    "    def __init__(self, first_name, last_name, salary):\n",
    "        # we must call the parent constructor\n",
    "        super().__init__(first_name, last_name)\n",
    "        self.salary = salary\n",
    "\n",
    "worker = Employee(\"James\", \"Lynch\", 25000)\n",
    "\n",
    "print(worker.get_full_name())\n",
    "print(worker.salary)"
   ]
  },
  {
   "cell_type": "markdown",
   "metadata": {},
   "source": [
    "## Learning resources"
   ]
  },
  {
   "cell_type": "markdown",
   "metadata": {},
   "source": [
    "- Python Tutorial W£C Schools - https://www.w3schools.com/python/default.asp\n",
    "- Python for Everybody Specialization on Coursera - https://www.coursera.org/specializations/python\n",
    "- Many good books on Python from O'Reilly and avaliable on amazon"
   ]
  },
  {
   "cell_type": "code",
   "execution_count": null,
   "metadata": {},
   "outputs": [],
   "source": []
  }
 ],
 "metadata": {
  "kernelspec": {
   "display_name": "Python 3",
   "language": "python",
   "name": "python3"
  },
  "language_info": {
   "codemirror_mode": {
    "name": "ipython",
    "version": 3
   },
   "file_extension": ".py",
   "mimetype": "text/x-python",
   "name": "python",
   "nbconvert_exporter": "python",
   "pygments_lexer": "ipython3",
   "version": "3.8.3"
  }
 },
 "nbformat": 4,
 "nbformat_minor": 4
}
